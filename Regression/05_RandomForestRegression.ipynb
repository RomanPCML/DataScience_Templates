{
 "nbformat": 4,
 "nbformat_minor": 2,
 "metadata": {
  "language_info": {
   "name": "python",
   "codemirror_mode": {
    "name": "ipython",
    "version": 3
   }
  },
  "orig_nbformat": 2,
  "file_extension": ".py",
  "mimetype": "text/x-python",
  "name": "python",
  "npconvert_exporter": "python",
  "pygments_lexer": "ipython3",
  "version": 3
 },
 "cells": [
  {
   "cell_type": "markdown",
   "metadata": {},
   "source": [
    "<h2> Random Forest Regression</h2>\n",
    "\n",
    "CART (Classification and Regression Trees) describe a method that applies rule based classification or regression to a data set.\n",
    "\n",
    "The Random Forest Regression Model is an ensemble method. That aggregates predictions from various predictors and use these to get the optimal prediction for a sample. By building multiple Decision Trees based on subsets of the data samples and subsets of the used features. The variance within the prediction can be reduced, the prediciton will me more robust and less prone to over fitting as the average or majority vote of the single Desicion Tree is used as the prediction.\n"
   ]
  },
  {
   "cell_type": "code",
   "execution_count": null,
   "metadata": {},
   "outputs": [],
   "source": []
  }
 ]
}